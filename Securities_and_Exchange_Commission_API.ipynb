{
  "nbformat": 4,
  "nbformat_minor": 0,
  "metadata": {
    "colab": {
      "name": "Securities and Exchange Commission API.ipynb",
      "provenance": [],
      "collapsed_sections": [],
      "authorship_tag": "ABX9TyMFbotkp02e6gRv4eVhoyFd",
      "include_colab_link": true
    },
    "kernelspec": {
      "name": "python3",
      "display_name": "Python 3"
    },
    "language_info": {
      "name": "python"
    }
  },
  "cells": [
    {
      "cell_type": "markdown",
      "metadata": {
        "id": "view-in-github",
        "colab_type": "text"
      },
      "source": [
        "<a href=\"https://colab.research.google.com/github/Tahahaha7/Quantitative_Trading/blob/main/Securities_and_Exchange_Commission_API.ipynb\" target=\"_parent\"><img src=\"https://colab.research.google.com/assets/colab-badge.svg\" alt=\"Open In Colab\"/></a>"
      ]
    },
    {
      "cell_type": "code",
      "metadata": {
        "id": "VgERMUeGsTr0"
      },
      "source": [
        "%%capture\n",
        "!pip -q install wget yfinance\n",
        "!pip install ratelimit==2.2.0"
      ],
      "execution_count": 20,
      "outputs": []
    },
    {
      "cell_type": "code",
      "metadata": {
        "id": "3F6UIYmbp7NT"
      },
      "source": [
        "import wget\n",
        "wget.download('https://gist.githubusercontent.com/neila/0184545e7a643ff7c506673b15ac3c2b/raw/3efd37ccb3b04513587b1de06494ea6f17aecaad/project_helper.py', \n",
        "              out=\"project_helper.py\")"
      ],
      "execution_count": null,
      "outputs": []
    },
    {
      "cell_type": "code",
      "metadata": {
        "id": "XWuwwuyVqFFy"
      },
      "source": [
        "import urllib\n",
        "import nltk\n",
        "import numpy as np\n",
        "import pandas as pd\n",
        "import re, requests\n",
        "import pickle\n",
        "import json\n",
        "import pprint\n",
        "import project_helper\n",
        "from tqdm import tqdm"
      ],
      "execution_count": 22,
      "outputs": []
    },
    {
      "cell_type": "code",
      "metadata": {
        "colab": {
          "base_uri": "https://localhost:8080/"
        },
        "id": "K4doqr5XqKZM",
        "outputId": "8e764a25-6c4a-4af2-dba8-7aab72de8cbc"
      },
      "source": [
        "nltk.download('stopwords')\n",
        "nltk.download('wordnet')"
      ],
      "execution_count": 3,
      "outputs": [
        {
          "output_type": "stream",
          "text": [
            "[nltk_data] Downloading package stopwords to /root/nltk_data...\n",
            "[nltk_data]   Unzipping corpora/stopwords.zip.\n",
            "[nltk_data] Downloading package wordnet to /root/nltk_data...\n",
            "[nltk_data]   Unzipping corpora/wordnet.zip.\n"
          ],
          "name": "stdout"
        },
        {
          "output_type": "execute_result",
          "data": {
            "text/plain": [
              "True"
            ]
          },
          "metadata": {
            "tags": []
          },
          "execution_count": 3
        }
      ]
    },
    {
      "cell_type": "code",
      "metadata": {
        "colab": {
          "base_uri": "https://localhost:8080/"
        },
        "id": "Sj560QHVqPBU",
        "outputId": "ad58de3d-339d-47d7-ef83-0156bf9ce37a"
      },
      "source": [
        "def getCIKs(TICKERS):\n",
        "    URL = 'http://www.sec.gov/cgi-bin/browse-edgar?CIK={}&Find=Search&owner=exclude&action=getcompany'\n",
        "    CIK_RE = re.compile(r'.*CIK=(\\d{10}).*')    \n",
        "    cik_dict = {}\n",
        "\n",
        "    for ticker in TICKERS:\n",
        "        get_request = requests.get(URL.format(ticker), stream=True);\n",
        "        results = CIK_RE.findall(get_request.text)\n",
        "        try: cik_dict[ticker] = results[0]\n",
        "        except: pass\n",
        "    print('Number of stocks retrieved {}'.format(len(results)))\n",
        "    return cik_dict\n",
        "\n",
        "assert getCIKs(['AMZN','BMY','CNP','CVX','FL','FRT','HON']) == {'AMZN': '0001018724','BMY': '0000014272',\n",
        "                                                                'CNP': '0001130310','CVX': '0000093410',\n",
        "                                                                'FL': '0000850209','FRT': '0000034903', \n",
        "                                                                'HON': '0000773840'}"
      ],
      "execution_count": 37,
      "outputs": [
        {
          "output_type": "stream",
          "text": [
            "Number of stocks retrieved 7\n"
          ],
          "name": "stdout"
        }
      ]
    },
    {
      "cell_type": "code",
      "metadata": {
        "id": "DRVeb9enqk5v"
      },
      "source": [
        "# A set of random stock tickers\n",
        "link = 'https://raw.githubusercontent.com/RayBB/random-stock-picker/master/stocks.json'\n",
        "response = urllib.request.urlopen(link)\n",
        "stocks = json.loads(response.read())"
      ],
      "execution_count": 10,
      "outputs": []
    },
    {
      "cell_type": "code",
      "metadata": {
        "colab": {
          "base_uri": "https://localhost:8080/"
        },
        "id": "awkkv9Gwqvog",
        "outputId": "59877c22-9657-4d9f-d625-bab58da736c7"
      },
      "source": [
        "# Some tickers are not returning any results\n",
        "stockchoices = np.random.choice(stocks, 20, replace=False)\n",
        "cik_lookup = getCIKs(stockchoices)"
      ],
      "execution_count": 38,
      "outputs": [
        {
          "output_type": "stream",
          "text": [
            "Number of stocks retrieved 6\n"
          ],
          "name": "stdout"
        }
      ]
    },
    {
      "cell_type": "code",
      "metadata": {
        "id": "hE4zqk74rVSO"
      },
      "source": [
        "sec_api = project_helper.SecAPI()"
      ],
      "execution_count": 39,
      "outputs": []
    },
    {
      "cell_type": "code",
      "metadata": {
        "id": "hakfHQqut0cP"
      },
      "source": [
        "from bs4 import BeautifulSoup\n",
        "\n",
        "def get_sec_data(cik, doc_type, start=0, count=60):\n",
        "\n",
        "    rss_url = 'https://www.sec.gov/cgi-bin/browse-edgar?action=getcompany&CIK={}&type={}&start={}&count={}&owner=exclude&output=atom'\\\n",
        "    .format(cik, doc_type, start, count)\n",
        "\n",
        "    sec_data = sec_api.get(rss_url)\n",
        "    feed = BeautifulSoup(sec_data.encode('ascii'), 'xml').feed\n",
        "    entries = [(entry.content.find('filing-href').getText(),\n",
        "                entry.content.find('filing-type').getText(),\n",
        "                entry.content.find('filing-date').getText())\n",
        "        for entry in feed.find_all('entry', recursive=False)]\n",
        "    return entries"
      ],
      "execution_count": 40,
      "outputs": []
    },
    {
      "cell_type": "code",
      "metadata": {
        "colab": {
          "base_uri": "https://localhost:8080/"
        },
        "id": "_mlwOkvouKwx",
        "outputId": "e2e2498b-9856-46c5-8bc7-0b6477376c69"
      },
      "source": [
        "sec_data = {}\n",
        "\n",
        "for ticker, cik in cik_lookup.items():\n",
        "    sec_data[ticker] = get_sec_data(cik, '10-K')\n",
        "\n",
        "example_ticker = stockchoices[0]\n",
        "print(\"example ticker:\", example_ticker)\n",
        "pprint.pprint(sec_data[example_ticker][:5])"
      ],
      "execution_count": 41,
      "outputs": [
        {
          "output_type": "stream",
          "text": [
            "example ticker: FONR\n",
            "[('https://www.sec.gov/Archives/edgar/data/355019/000035501920000051/0000355019-20-000051-index.htm',\n",
            "  '10-K',\n",
            "  '2020-10-01'),\n",
            " ('https://www.sec.gov/Archives/edgar/data/355019/000035501919000036/0000355019-19-000036-index.htm',\n",
            "  '10-K',\n",
            "  '2019-09-30'),\n",
            " ('https://www.sec.gov/Archives/edgar/data/355019/000035501918000039/0000355019-18-000039-index.htm',\n",
            "  '10-K',\n",
            "  '2018-09-21'),\n",
            " ('https://www.sec.gov/Archives/edgar/data/355019/000035501917000029/0000355019-17-000029-index.htm',\n",
            "  '10-K',\n",
            "  '2017-09-27'),\n",
            " ('https://www.sec.gov/Archives/edgar/data/355019/000035501916000059/0000355019-16-000059-index.htm',\n",
            "  '10-K',\n",
            "  '2016-09-28')]\n"
          ],
          "name": "stdout"
        }
      ]
    }
  ]
}