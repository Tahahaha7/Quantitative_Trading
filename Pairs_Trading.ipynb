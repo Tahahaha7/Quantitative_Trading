{
  "nbformat": 4,
  "nbformat_minor": 0,
  "metadata": {
    "kernelspec": {
      "display_name": "Python 3",
      "language": "python",
      "name": "python3"
    },
    "language_info": {
      "codemirror_mode": {
        "name": "ipython",
        "version": 3
      },
      "file_extension": ".py",
      "mimetype": "text/x-python",
      "name": "python",
      "nbconvert_exporter": "python",
      "pygments_lexer": "ipython3",
      "version": "3.8.1"
    },
    "colab": {
      "name": "Pairs Trading.ipynb",
      "provenance": [],
      "collapsed_sections": [],
      "include_colab_link": true
    }
  },
  "cells": [
    {
      "cell_type": "markdown",
      "metadata": {
        "id": "view-in-github",
        "colab_type": "text"
      },
      "source": [
        "<a href=\"https://colab.research.google.com/github/Tahahaha7/Quantitative_Trading/blob/main/Pairs_Trading.ipynb\" target=\"_parent\"><img src=\"https://colab.research.google.com/assets/colab-badge.svg\" alt=\"Open In Colab\"/></a>"
      ]
    },
    {
      "cell_type": "markdown",
      "metadata": {
        "id": "LU_Bqb1maEva"
      },
      "source": [
        "# $\\text{Pair Trading}$"
      ]
    },
    {
      "cell_type": "code",
      "metadata": {
        "id": "UICxLZUOd-de"
      },
      "source": [
        "%%capture\n",
        "!pip install yfinance"
      ],
      "execution_count": 1,
      "outputs": []
    },
    {
      "cell_type": "code",
      "metadata": {
        "colab": {
          "base_uri": "https://localhost:8080/",
          "height": 35
        },
        "id": "bSENGdIeiSmB",
        "outputId": "90fba2bf-c5e0-476c-971d-c98fee2656d7"
      },
      "source": [
        "import statsmodels\n",
        "statsmodels.__version__"
      ],
      "execution_count": 5,
      "outputs": [
        {
          "output_type": "execute_result",
          "data": {
            "application/vnd.google.colaboratory.intrinsic+json": {
              "type": "string"
            },
            "text/plain": [
              "'0.12.2'"
            ]
          },
          "metadata": {
            "tags": []
          },
          "execution_count": 5
        }
      ]
    },
    {
      "cell_type": "code",
      "metadata": {
        "id": "AHBFZ5XpiBHU"
      },
      "source": [
        "!pip install statsmodels==0.12.2"
      ],
      "execution_count": null,
      "outputs": []
    },
    {
      "cell_type": "code",
      "metadata": {
        "id": "2OJ3ns-3aEvg"
      },
      "source": [
        "import numpy as np\n",
        "import statsmodels.api as sm\n",
        "import statsmodels.tsa.stattools as ts\n",
        "import pandas as pd\n",
        "from statsmodels.regression.rolling import RollingOLS\n",
        "import matplotlib.pyplot as plt\n",
        "import yfinance as yf\n",
        "\n",
        "#Import other packages as you see fit"
      ],
      "execution_count": 2,
      "outputs": []
    },
    {
      "cell_type": "markdown",
      "metadata": {
        "id": "wAXq_aneaEvi"
      },
      "source": [
        "# Step 1: Find at least one pair\n",
        "\n",
        "If you are struggling, there is code on how to do this sort of thing in the Quantopian notebook:\n",
        "https://github.com/quantopian/research_public/blob/master/notebooks/lectures/Introduction_to_Pairs_Trading/notebook.ipynb\n",
        "\n",
        "I recommend picking stocks from the same industry, like fast food or energy companies etc.\n",
        "\n",
        "#### You should end up with a dataframe with the closing prices for a pair of stocks that were likely cointegrated in January 2018"
      ]
    },
    {
      "cell_type": "code",
      "metadata": {
        "scrolled": false,
        "id": "Zu5sVWLEaEvi",
        "colab": {
          "base_uri": "https://localhost:8080/"
        },
        "outputId": "4315bad6-81c4-46b5-b646-a6301efa07d6"
      },
      "source": [
        "#import data \n",
        "stocks = 'AAL', 'UAL', 'GOOG', 'AAPL', 'FB', 'TM', 'HMC', 'FORD', 'SNE', 'CMG', 'DIS', 'TWTR'\n",
        "\n",
        "stock_data = yf.download(stocks, start='2018-01-01', end='2018-12-31', interval=\"1d\")"
      ],
      "execution_count": 8,
      "outputs": [
        {
          "output_type": "stream",
          "text": [
            "[*********************100%***********************]  12 of 12 completed\n"
          ],
          "name": "stdout"
        }
      ]
    },
    {
      "cell_type": "code",
      "metadata": {
        "id": "HfGF5tjQaEvj"
      },
      "source": [
        "#Find pair(s) code here\n",
        "\n",
        "def find_cointegrated_pairs(data):\n",
        "    '''\n",
        "    Adopt Quantopian code to work on df columns\n",
        "    '''\n",
        "    n = data.shape[1]\n",
        "    score_matrix = np.zeros((n, n))\n",
        "    pvalue_matrix = np.ones((n, n))\n",
        "    stocks = data.columns\n",
        "    pairs = []\n",
        "    for i in range(n):\n",
        "        for j in range(i+1, n):\n",
        "            S1 = data[stocks[i]]\n",
        "            S2 = data[stocks[j]]\n",
        "            result = ts.coint(S1, S2)\n",
        "            score = result[0]\n",
        "            pvalue = result[1]\n",
        "            score_matrix[i, j] = score\n",
        "            pvalue_matrix[i, j] = pvalue\n",
        "            if pvalue < 0.05:\n",
        "                pairs.append((stocks[i], stocks[j]))\n",
        "    return score_matrix, pvalue_matrix, pairs"
      ],
      "execution_count": 9,
      "outputs": []
    },
    {
      "cell_type": "code",
      "metadata": {
        "id": "8IshOtYraEvk",
        "colab": {
          "base_uri": "https://localhost:8080/"
        },
        "outputId": "a9bb81dd-a07f-4662-8b79-8823444b55cc"
      },
      "source": [
        "################################\n",
        "# Do your thing and find pairs #\n",
        "################################\n",
        "\n",
        "# Extracting the closing price for each stock\n",
        "\n",
        "score_matrix, pvalue_matrix, pairs = find_cointegrated_pairs(stock_data.Close)\n",
        "print('score_matrix\\n{}\\n\\npvalue_matrix\\n\\n{}\\n\\npairs {}'.format(score_matrix, pvalue_matrix, pairs))"
      ],
      "execution_count": 10,
      "outputs": [
        {
          "output_type": "stream",
          "text": [
            "score_matrix\n",
            "[[ 0.         -0.859539   -1.99905049 -2.02468956 -1.51997545 -2.50547974\n",
            "  -1.05294549 -3.56742414 -1.36443764 -2.42106877 -0.93801195 -2.39382736]\n",
            " [ 0.          0.         -1.32570541 -1.33719631 -0.935313   -1.03083543\n",
            "  -1.50040767 -0.78326232 -3.12222452 -1.1834106  -0.8837776  -0.64539467]\n",
            " [ 0.          0.          0.         -2.50373407 -1.82735094 -2.27009736\n",
            "  -1.76817247 -2.46795774 -1.89537624 -2.29415339 -1.6757433  -2.27311608]\n",
            " [ 0.          0.          0.          0.         -2.32481611 -2.05932962\n",
            "  -1.96172485 -2.90357682 -3.21311593 -2.80419071 -2.11417171 -3.39245494]\n",
            " [ 0.          0.          0.          0.          0.         -2.42813488\n",
            "  -1.47978957 -1.59917749 -1.30865493 -2.71580948 -1.30647507 -2.14879291]\n",
            " [ 0.          0.          0.          0.          0.          0.\n",
            "  -3.49156045 -3.46682945 -3.11115667 -3.75930583 -3.09918934 -3.38914105]\n",
            " [ 0.          0.          0.          0.          0.          0.\n",
            "   0.         -2.29059358 -2.43964661 -2.12499247 -2.36003609 -2.18479051]\n",
            " [ 0.          0.          0.          0.          0.          0.\n",
            "   0.          0.         -1.27362424 -2.14990694 -0.62472835 -2.45388326]\n",
            " [ 0.          0.          0.          0.          0.          0.\n",
            "   0.          0.          0.         -2.65221759 -2.42472768 -2.87810591]\n",
            " [ 0.          0.          0.          0.          0.          0.\n",
            "   0.          0.          0.          0.         -1.39851338 -3.2804109 ]\n",
            " [ 0.          0.          0.          0.          0.          0.\n",
            "   0.          0.          0.          0.          0.         -2.01128815]\n",
            " [ 0.          0.          0.          0.          0.          0.\n",
            "   0.          0.          0.          0.          0.          0.        ]]\n",
            "\n",
            "pvalue_matrix\n",
            "\n",
            "[[1.         0.92641706 0.52907162 0.51572245 0.75345289 0.27665766\n",
            "  0.89233671 0.02686837 0.80944289 0.31494233 0.91398729 0.32778404]\n",
            " [1.         1.         0.82184434 0.81822937 0.914445   0.89684119\n",
            "  0.76103572 0.93686805 0.08392569 0.86219149 0.92276773 0.95221639]\n",
            " [1.         1.         1.         0.27742467 0.61634412 0.38856495\n",
            "  0.64504905 0.29338048 0.58235016 0.37647379 0.6878895  0.38704152]\n",
            " [1.         1.         1.         1.         0.36123733 0.49763312\n",
            "  0.54840752 0.13493997 0.06776164 0.16435493 0.46896162 0.04319543]\n",
            " [1.         1.         1.         1.         1.         0.31164803\n",
            "  0.76886004 0.72123702 0.82710876 0.19394423 0.82777325 0.45090529]\n",
            " [1.         1.         1.         1.         1.         1.\n",
            "  0.03315091 0.03545136 0.08608392 0.01534544 0.08846574 0.04357096]\n",
            " [1.         1.         1.         1.         1.         1.\n",
            "  1.         0.37825578 0.30631464 0.4633117  0.34400864 0.43222003]\n",
            " [1.         1.         1.         1.         1.         1.\n",
            "  1.         1.         0.83755338 0.45032544 0.95417033 0.29977754]\n",
            " [1.         1.         1.         1.         1.         1.\n",
            "  1.         1.         1.         0.21723257 0.31323457 0.1420931 ]\n",
            " [1.         1.         1.         1.         1.         1.\n",
            "  1.         1.         1.         1.         0.79802237 0.05747785]\n",
            " [1.         1.         1.         1.         1.         1.\n",
            "  1.         1.         1.         1.         1.         0.52270551]\n",
            " [1.         1.         1.         1.         1.         1.\n",
            "  1.         1.         1.         1.         1.         1.        ]]\n",
            "\n",
            "pairs [('AAL', 'HMC'), ('DIS', 'UAL'), ('FORD', 'GOOG'), ('FORD', 'HMC'), ('FORD', 'TM'), ('FORD', 'UAL')]\n"
          ],
          "name": "stdout"
        }
      ]
    },
    {
      "cell_type": "markdown",
      "metadata": {
        "id": "kIQEswUKaEvk"
      },
      "source": [
        "# Step 2: Trade the pair\n",
        "\n",
        "Now let's trade!\n",
        "\n",
        "In the Pairs class below, you have to do the following things:\n",
        "1. Implement Pairs._compute_hedge_ratio()\n",
        "2. Implement Pairs._compute_spread()\n",
        "3. Implement Pairs._compute_zscore()\n",
        "4. Complete Pairs._compute_long_short_market_signals() with logic for when to go long, short and exit position\n",
        "\n",
        "There are docstring which explain the input and the expected output of each of these functions. They are also called sequentially in Pairs.run_backtest() so you can use that to reverse engineer/understand context if you are struggling."
      ]
    },
    {
      "cell_type": "code",
      "metadata": {
        "id": "0-iTaBK0gyo8"
      },
      "source": [
        "help(sm.ols)"
      ],
      "execution_count": null,
      "outputs": []
    },
    {
      "cell_type": "code",
      "metadata": {
        "id": "lTK6FMmuaEvl"
      },
      "source": [
        "class Pairs(object):\n",
        "    \n",
        "    def __init__(self, pairs_dataframe, lookback=30):\n",
        "        '''\n",
        "        Parameters:\n",
        "        \n",
        "        pairs_dataframe: pandas.Dataframe\n",
        "            Two columns of adjusted closing prices, one stock per column\n",
        "            Index should be dates\n",
        "        \n",
        "        lookback: int\n",
        "            number of previous days used to compute hedge ratios \n",
        "            and therefrom derived statistics\n",
        "        '''\n",
        "        \n",
        "        self.lookback = lookback\n",
        "        self.pairs_df = pairs_dataframe\n",
        "        \n",
        "        #extract column names for convenience\n",
        "        self.assets = pairs_dataframe.columns\n",
        "        \n",
        "        #Will be created during backtest\n",
        "        self.portfolio = None\n",
        "        \n",
        "    def _compute_hedge_ratio(self, pairs_df, assets, lookback):\n",
        "        '''\n",
        "        Extends pairs_df with hedge ratio series for asset pair\n",
        "        \n",
        "        \n",
        "        Parameters:\n",
        "        \n",
        "        pairs_dataframe: pandas.Dataframe\n",
        "            Two columns of adjusted closing prices, one stock per column\n",
        "            Index should be dates\n",
        "        \n",
        "        assets: str\n",
        "            Column names for the two stock closing prices\n",
        "        \n",
        "        lookback: int\n",
        "            number of previous days used to compute hedge ratios \n",
        "            and therefrom derived statistics\n",
        "        '''\n",
        "        #raise NotImplementedError\n",
        "        model = RollingOLS(pairs_df[assets[0]], \n",
        "                           pairs_df[assets[1]],\n",
        "                           window=lookback).fit()\n",
        "        \n",
        "        pairs_df['hedge_ratio'] = model.params\n",
        "\n",
        "        return pairs_df\n",
        "        \n",
        "    def _compute_spread(self, pairs_df, assets, hedge_ratio):\n",
        "        '''\n",
        "        Extends pairs_df with spread series for asset pair\n",
        "        \n",
        "        \n",
        "        Parameters:\n",
        "        \n",
        "        pairs_dataframe: pandas.Dataframe\n",
        "            Must include hedge_ratio series\n",
        "        \n",
        "        assets: str\n",
        "            Column names for the two stock closing prices\n",
        "        \n",
        "        hedge_ratio: str\n",
        "            column name for hedge_ratio series in pairs_df\n",
        "        '''\n",
        "\n",
        "        pairs_df['spread'] = pairs_df[assets[0]] - pairs_df['hedge_ratio'] * pairs_df[assets[1]]\n",
        "\n",
        "        return pairs_df\n",
        "    \n",
        "\n",
        "    def _compute_zscore(self, pairs_df, spread):\n",
        "        '''\n",
        "        Extends pairs_df with zscore series for asset pair\n",
        "        \n",
        "        \n",
        "        Parameters:\n",
        "        \n",
        "        pairs_dataframe: pandas.Dataframe\n",
        "            Must include spread series\n",
        "        \n",
        "        spread: str\n",
        "            column name for spread series in pairs_df\n",
        "        '''\n",
        "\n",
        "        pairs_df['zscore'] = (pairs_df['spread'] - np.mean(pairs_df['spread'])) / np.std(pairs_df['spread'])\n",
        "          \n",
        "        return pairs_df\n",
        "    \n",
        "\n",
        "    def _compute_long_short_market_signals(self, pairs_df, assets, \n",
        "                                           z_entry_threshold=2.0, \n",
        "                                           z_exit_threshold=1.0):\n",
        "        \"\"\"\n",
        "        Create the entry/exit signals based on the exceeding of \n",
        "        z_enter_threshold for entering a position and falling below\n",
        "        z_exit_threshold for exiting a position.\n",
        "        \"\"\"\n",
        "            \n",
        "        #############################################################################\n",
        "        # CREATE SOME LOGIC FOR DETERMINING WHEN TO BE LONG, SHORT AND WHEN TO EXIT #\n",
        "        #############################################################################\n",
        "\n",
        "        # Calculate when to be long, short and when to exit\n",
        "        pairs_df['longs'] = (pairs_df['zscore'] <= -z_entry_threshold)*1.0\n",
        "        pairs_df['shorts'] = (pairs_df['zscore'] >= z_entry_threshold)*1.0\n",
        "        pairs_df['exits'] = (np.abs(pairs_df['zscore']) <= z_exit_threshold)*1.0\n",
        "\n",
        "        # These signals are needed because we need to propagate a\n",
        "        # position forward, i.e. we need to stay long if the zscore\n",
        "        # threshold is less than z_entry_threshold by still greater\n",
        "        # than z_exit_threshold, and vice versa for shorts.\n",
        "        pairs_df['long_market'] = 0.0\n",
        "        pairs_df['short_market'] = 0.0\n",
        "\n",
        "        # These variables track whether to be long or short while\n",
        "        # iterating through the bars\n",
        "        long_market = 0\n",
        "        short_market = 0\n",
        "\n",
        "        # Calculates when to actually be \"in\" the market, i.e. to have a\n",
        "        # long or short position, as well as when not to be.\n",
        "        # Since this is using iterrows to loop over a dataframe, it will\n",
        "        # be significantly less efficient than a vectorised operation,\n",
        "        # i.e. slow!\n",
        "        for i, b in enumerate(pairs_df.iterrows()):\n",
        "            # Calculate longs\n",
        "            if b[1]['longs'] == 1.0:\n",
        "                long_market = 1            \n",
        "            # Calculate shorts\n",
        "            if b[1]['shorts'] == 1.0:\n",
        "                short_market = 1\n",
        "            # Calculate exits\n",
        "            if b[1]['exits'] == 1.0:\n",
        "                long_market = 0\n",
        "                short_market = 0\n",
        "            # This directly assigns a 1 or 0 to the long_market/short_market\n",
        "            # columns, such that the strategy knows when to actually stay in!\n",
        "            pairs_df.iloc[i]['long_market'] = long_market\n",
        "            pairs_df.iloc[i]['short_market'] = short_market\n",
        "        return pairs_df\n",
        "    \n",
        "    \n",
        "    def _compute_portfolio_returns(self, pairs_df, assets):\n",
        "        \"\"\"\n",
        "        THIS IS DONE\n",
        "        \n",
        "        Creates a portfolio pandas DataFrame which keeps track of\n",
        "        the account equity and ultimately generates an equity curve.\n",
        "        This can be used to generate drawdown and risk/reward ratios.\n",
        "        \"\"\"\n",
        "        \n",
        "        # Construct the portfolio object with positions information\n",
        "        # Note that minuses to keep track of shorts!\n",
        "        portfolio = pd.DataFrame({}, index=pairs_df.index)\n",
        "        portfolio['positions'] = pairs_df['long_market'] - pairs_df['short_market']\n",
        "        portfolio[assets[0]] = -1.0 * pairs_df[assets[0]] * portfolio['positions']\n",
        "        portfolio[assets[0]] = pairs_df[assets[0]] * portfolio['positions']\n",
        "        portfolio['total'] = portfolio[assets[0]] + portfolio[assets[0]]\n",
        "\n",
        "        # Construct a percentage returns stream and eliminate all \n",
        "        # of the NaN and -inf/+inf cells\n",
        "        portfolio['returns'] = portfolio['total'].pct_change()\n",
        "        portfolio['returns'].fillna(0.0, inplace=True)\n",
        "        portfolio['returns'].replace([np.inf, -np.inf], 0.0, inplace=True)\n",
        "        portfolio['returns'].replace(-1.0, 0.0, inplace=True)\n",
        "\n",
        "        # Calculate the full equity curve\n",
        "        portfolio['returns'] = (portfolio['returns'] + 1.0).cumprod()\n",
        "        return portfolio\n",
        "    \n",
        "    \n",
        "    def run_backtest(self, z_entry_threshold=2, z_exit_threshold=0.5):\n",
        "        '''Runs backtest by calling helper functions in sequence'''\n",
        "        self.pairs_df = self._compute_hedge_ratio(self.pairs_df, self.assets, self.lookback)\n",
        "        self.pairs_df = self._compute_spread(self.pairs_df, self.assets, \"hedge_ratio\")\n",
        "        self.pairs_df = self._compute_zscore(self.pairs_df, \"spread\")\n",
        "        self.pairs_df = self._compute_long_short_market_signals(self.pairs_df, self.assets, \n",
        "                                                                z_entry_threshold, \n",
        "                                                                z_exit_threshold)\n",
        "\n",
        "        self.portfolio = self._compute_portfolio_returns(self.pairs_df, self.assets)\n",
        "        \n",
        "        return self.portfolio\n",
        "\n",
        "    def plot_stocks(self, pairs_df, assets):\n",
        "        plt.plot()"
      ],
      "execution_count": 22,
      "outputs": []
    },
    {
      "cell_type": "code",
      "metadata": {
        "id": "-efZa1w0lFX2"
      },
      "source": [
        "import warnings\n",
        "import pandas as pd\n",
        "from pandas.core.common import SettingWithCopyWarning\n",
        "warnings.simplefilter(action=\"ignore\", category=SettingWithCopyWarning)"
      ],
      "execution_count": 36,
      "outputs": []
    },
    {
      "cell_type": "markdown",
      "metadata": {
        "id": "xKAZ3fJLaEvs"
      },
      "source": [
        "# Step 3: Evaluate backtest"
      ]
    },
    {
      "cell_type": "code",
      "metadata": {
        "id": "fGPkfHEQaEvs",
        "colab": {
          "base_uri": "https://localhost:8080/",
          "height": 336
        },
        "outputId": "1ffa675c-4f76-44de-d70c-619caac86f03"
      },
      "source": [
        "plt.figure(figsize=(12, 5))\n",
        "for p in pairs:\n",
        "    stock_data_adjusted = stock_data['Adj Close']\n",
        "    pair_backtest = Pairs(stock_data_adjusted[list(p)])\n",
        "    pair = pair_backtest.run_backtest()\n",
        "    plt.title ('Returns')\n",
        "    plt.plot(pair.returns, label=p)\n",
        "    plt.legend();"
      ],
      "execution_count": 39,
      "outputs": [
        {
          "output_type": "display_data",
          "data": {
            "image/png": "[encoded data removed]",
            "text/plain": [
              "<Figure size 864x360 with 1 Axes>"
            ]
          },
          "metadata": {
            "tags": [],
            "needs_background": "light"
          }
        }
      ]
    },
    {
      "cell_type": "markdown",
      "metadata": {
        "id": "exv1GwEAaEvs"
      },
      "source": [
        "# Step 4: Reflect on how to improve\n",
        "\n",
        "The set of stocks I have pickekd for the PCW contains airline companies, car manifacturers, and tech companies. Most of the pairs don't seem to perform well in terms of return except for the pair of Disney and United Airlines.\n",
        "\n"
      ]
    }
  ]
}