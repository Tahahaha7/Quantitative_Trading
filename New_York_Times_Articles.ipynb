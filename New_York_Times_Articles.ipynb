{
  "nbformat": 4,
  "nbformat_minor": 0,
  "metadata": {
    "colab": {
      "name": "New York Times Articles.ipynb",
      "provenance": [],
      "collapsed_sections": [],
      "authorship_tag": "ABX9TyPUfhLEzNaRqdyK4Kz1IjUI",
      "include_colab_link": true
    },
    "kernelspec": {
      "name": "python3",
      "display_name": "Python 3"
    },
    "language_info": {
      "name": "python"
    }
  },
  "cells": [
    {
      "cell_type": "markdown",
      "metadata": {
        "id": "view-in-github",
        "colab_type": "text"
      },
      "source": [
        "<a href=\"https://colab.research.google.com/github/Tahahaha7/Quantitative_Trading/blob/main/New_York_Times_Articles.ipynb\" target=\"_parent\"><img src=\"https://colab.research.google.com/assets/colab-badge.svg\" alt=\"Open In Colab\"/></a>"
      ]
    },
    {
      "cell_type": "code",
      "metadata": {
        "id": "8gC0RvYrgG41"
      },
      "source": [
        "%%capture\n",
        "!pip -qq install vaderSentiment\n",
        "!pip -qq install pynytimes"
      ],
      "execution_count": 1,
      "outputs": []
    },
    {
      "cell_type": "code",
      "metadata": {
        "id": "BA22ZtD1gwdA"
      },
      "source": [
        "from vaderSentiment.vaderSentiment import SentimentIntensityAnalyzer\n",
        "from pynytimes import NYTAPI\n",
        "import datetime as dt\n",
        "import pandas as pd\n",
        "from pandas.tseries.offsets import BDay\n",
        "import warnings\n",
        "warnings.filterwarnings(\"ignore\")\n",
        "\n",
        "analyzer = SentimentIntensityAnalyzer()"
      ],
      "execution_count": 18,
      "outputs": []
    },
    {
      "cell_type": "code",
      "metadata": {
        "id": "I12B1e5zgz5G"
      },
      "source": [
        "api_key =  'key_token'\n",
        "\n",
        "nyt = NYTAPI(api_key, parse_dates=True)\n",
        "\n",
        "def nyt_query_articles(key_word, n_results, begin, end):\n",
        "    return nyt.article_search(\n",
        "        query = key_word,\n",
        "        results = n_results,\n",
        "        dates = {\"begin\": begin, \"end\": end},\n",
        "        #options = {https://developer.nytimes.com/docs/articlesearch-product/1/overview}\n",
        "        )\n",
        "    \n",
        "def nyt_query_archives(key_word, n_results, begin, end):\n",
        "    return nyt.article_search(\n",
        "        query = key_word,\n",
        "        results = n_results,\n",
        "        dates = {\"begin\": begin, \"end\": end},\n",
        "        #options = {https://developer.nytimes.com/docs/articlesearch-product/1/overview}\n",
        "        )"
      ],
      "execution_count": 36,
      "outputs": []
    },
    {
      "cell_type": "code",
      "metadata": {
        "id": "4qRDhdiShpwf"
      },
      "source": [
        "#articles = nyt_query_archives('Uber', 100, dt.datetime(2015, 1, 1), dt.datetime(2018, 1, 1))\n",
        "archives = nyt_query_archives('Uber', 100, dt.datetime(2015, 1, 1), dt.datetime(2018, 1, 1))"
      ],
      "execution_count": 37,
      "outputs": []
    },
    {
      "cell_type": "code",
      "metadata": {
        "colab": {
          "base_uri": "https://localhost:8080/",
          "height": 195
        },
        "id": "dGNxdcFUiPTS",
        "outputId": "14fbe1ee-5316-4a77-8726-a12c1ec4c238"
      },
      "source": [
        "abstracts = [articles[i]['abstract'] for i in range(len(articles))]\n",
        "pub_dates = [articles[i]['pub_date'] for i in range(len(articles))]\n",
        "\n",
        "news = pd.DataFrame({'publishedAt': pub_dates, 'abstract': abstracts})\n",
        "news.sort_values(by='publishedAt', inplace=True)\n",
        "\n",
        "def get_trade_open(date):\n",
        "    curr_date_open = pd.to_datetime(date).floor('d').replace(hour=13, minute=30) - BDay(0)\n",
        "    curr_date_close = pd.to_datetime(date).floor('d').replace(hour=20, minute=0) - BDay(0)\n",
        "    \n",
        "    prev_date_close = (curr_date_open - BDay()).replace(hour=20, minute=0)\n",
        "    next_date_open = (curr_date_close + BDay()).replace(hour=13, minute=30)\n",
        "    \n",
        "    if ((pd.to_datetime(date)>=prev_date_close) & (pd.to_datetime(date)<curr_date_open)):\n",
        "        return curr_date_open\n",
        "    elif ((pd.to_datetime(date)>=curr_date_close) & (pd.to_datetime(date)<next_date_open)):\n",
        "        return next_date_open\n",
        "    else:\n",
        "        return None\n",
        "      \n",
        "news[\"trading_time\"] = news[\"publishedAt\"].apply(get_trade_open)\n",
        "final_news = news[pd.notnull(news['trading_time'])]\n",
        "final_news['Date'] = pd.to_datetime(pd.to_datetime(final_news['trading_time']).dt.date)\n",
        "final_news.head()"
      ],
      "execution_count": 20,
      "outputs": [
        {
          "output_type": "execute_result",
          "data": {
            "text/html": [
              "<div>\n",
              "<style scoped>\n",
              "    .dataframe tbody tr th:only-of-type {\n",
              "        vertical-align: middle;\n",
              "    }\n",
              "\n",
              "    .dataframe tbody tr th {\n",
              "        vertical-align: top;\n",
              "    }\n",
              "\n",
              "    .dataframe thead th {\n",
              "        text-align: right;\n",
              "    }\n",
              "</style>\n",
              "<table border=\"1\" class=\"dataframe\">\n",
              "  <thead>\n",
              "    <tr style=\"text-align: right;\">\n",
              "      <th></th>\n",
              "      <th>publishedAt</th>\n",
              "      <th>abstract</th>\n",
              "      <th>trading_time</th>\n",
              "      <th>Date</th>\n",
              "    </tr>\n",
              "  </thead>\n",
              "  <tbody>\n",
              "    <tr>\n",
              "      <th>75</th>\n",
              "      <td>2015-06-01 09:54:08+00:00</td>\n",
              "      <td>The song by an amateur hip-hop artist briefly ...</td>\n",
              "      <td>2015-06-01 13:30:00+00:00</td>\n",
              "      <td>2015-06-01</td>\n",
              "    </tr>\n",
              "    <tr>\n",
              "      <th>73</th>\n",
              "      <td>2015-07-10 01:01:03+00:00</td>\n",
              "      <td>JPMorgan Chase became the latest bank to publi...</td>\n",
              "      <td>2015-07-10 13:30:00+00:00</td>\n",
              "      <td>2015-07-10</td>\n",
              "    </tr>\n",
              "    <tr>\n",
              "      <th>96</th>\n",
              "      <td>2015-08-04 07:21:04+00:00</td>\n",
              "      <td>Presidential candidates portraying themselves ...</td>\n",
              "      <td>2015-08-04 13:30:00+00:00</td>\n",
              "      <td>2015-08-04</td>\n",
              "    </tr>\n",
              "    <tr>\n",
              "      <th>98</th>\n",
              "      <td>2015-08-06 13:00:05+00:00</td>\n",
              "      <td>By using customers as lobbyists, companies lik...</td>\n",
              "      <td>2015-08-06 13:30:00+00:00</td>\n",
              "      <td>2015-08-06</td>\n",
              "    </tr>\n",
              "    <tr>\n",
              "      <th>99</th>\n",
              "      <td>2015-09-02 00:50:24+00:00</td>\n",
              "      <td>The ruling by Judge Edward M. Chen will allow ...</td>\n",
              "      <td>2015-09-02 13:30:00+00:00</td>\n",
              "      <td>2015-09-02</td>\n",
              "    </tr>\n",
              "  </tbody>\n",
              "</table>\n",
              "</div>"
            ],
            "text/plain": [
              "                 publishedAt  ...       Date\n",
              "75 2015-06-01 09:54:08+00:00  ... 2015-06-01\n",
              "73 2015-07-10 01:01:03+00:00  ... 2015-07-10\n",
              "96 2015-08-04 07:21:04+00:00  ... 2015-08-04\n",
              "98 2015-08-06 13:00:05+00:00  ... 2015-08-06\n",
              "99 2015-09-02 00:50:24+00:00  ... 2015-09-02\n",
              "\n",
              "[5 rows x 4 columns]"
            ]
          },
          "metadata": {
            "tags": []
          },
          "execution_count": 20
        }
      ]
    }
  ]
}